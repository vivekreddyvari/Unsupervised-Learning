{
 "cells": [
  {
   "cell_type": "markdown",
   "metadata": {},
   "source": [
    "# Visualization Communicate Insights\n",
    "\n",
    "### Visualization hierachies\n",
    "#### Two Visualization Technics\n",
    "    - \"t-SNE\" \n",
    "    - \"Hierarchical clustering\" \n",
    "    \n"
   ]
  },
  {
   "cell_type": "markdown",
   "metadata": {},
   "source": [
    "#### Hierarchical Clustering\n"
   ]
  },
  {
   "cell_type": "raw",
   "metadata": {},
   "source": [
    "    - A Hierachy of groups\n",
    "        - Groups of living things can form a hirerachy.\n",
    "        - Hirerachy - states, the groups, sub-groups of the whole entity\n",
    "        - e.g\n",
    "            - Animals: a) Mammals - a.1) humans, a.2) apes\n",
    "                       b) Reptiles - b.1) Snakes, b.2) Lizards\n",
    "        - Eurovision scoring dataset (a song contest)\n",
    "        - Countries gave scores to perform at the Eurovision 2016\n",
    "            - 2D array of scores\n",
    "            - Rows are countries, columns are songs\n",
    "            - Dendrogram - clusters that show, many of the countries close to each other\n",
    "            - Hirerachical - Clustering? How does it works?\n",
    "                - Step1 : Every country is in it's own cluster\n",
    "                - Step2 : At each step, two closet clusters are merged\n",
    "                - Step3 : Continue until, all countries in a single cluster\n",
    "                - Step4 : This is \"agglomerative\" hierarchical clustering\n",
    "                \n"
   ]
  },
  {
   "cell_type": "code",
   "execution_count": 23,
   "metadata": {},
   "outputs": [
    {
     "name": "stdout",
     "output_type": "stream",
     "text": [
      "WARNING *** OLE2 inconsistency: SSCS size is 0 but SSAT size is non-zero\n",
      "<class 'pandas.core.frame.DataFrame'>\n",
      "Index: 1067 entries, From country to United Kingdom\n",
      "Data columns (total 10 columns):\n",
      "Unnamed: 1     1067 non-null object\n",
      "Unnamed: 2     1067 non-null object\n",
      "Unnamed: 3     1067 non-null object\n",
      "Unnamed: 4     1067 non-null object\n",
      "Unnamed: 5     1067 non-null object\n",
      "Unnamed: 6     1067 non-null object\n",
      "Unnamed: 7     1067 non-null object\n",
      "Unnamed: 8     1067 non-null object\n",
      "Unnamed: 9     1067 non-null object\n",
      "Unnamed: 10    1067 non-null object\n",
      "dtypes: object(10)\n",
      "memory usage: 91.7+ KB\n"
     ]
    },
    {
     "data": {
      "text/html": [
       "<div>\n",
       "<style scoped>\n",
       "    .dataframe tbody tr th:only-of-type {\n",
       "        vertical-align: middle;\n",
       "    }\n",
       "\n",
       "    .dataframe tbody tr th {\n",
       "        vertical-align: top;\n",
       "    }\n",
       "\n",
       "    .dataframe thead th {\n",
       "        text-align: right;\n",
       "    }\n",
       "</style>\n",
       "<table border=\"1\" class=\"dataframe\">\n",
       "  <thead>\n",
       "    <tr style=\"text-align: right;\">\n",
       "      <th></th>\n",
       "      <th>Unnamed: 1</th>\n",
       "      <th>Unnamed: 2</th>\n",
       "      <th>Unnamed: 3</th>\n",
       "      <th>Unnamed: 4</th>\n",
       "      <th>Unnamed: 5</th>\n",
       "      <th>Unnamed: 6</th>\n",
       "      <th>Unnamed: 7</th>\n",
       "      <th>Unnamed: 8</th>\n",
       "      <th>Unnamed: 9</th>\n",
       "      <th>Unnamed: 10</th>\n",
       "    </tr>\n",
       "    <tr>\n",
       "      <th>Eurovision Song Contest 2016 Grand Final</th>\n",
       "      <th></th>\n",
       "      <th></th>\n",
       "      <th></th>\n",
       "      <th></th>\n",
       "      <th></th>\n",
       "      <th></th>\n",
       "      <th></th>\n",
       "      <th></th>\n",
       "      <th></th>\n",
       "      <th></th>\n",
       "    </tr>\n",
       "  </thead>\n",
       "  <tbody>\n",
       "    <tr>\n",
       "      <th>From country</th>\n",
       "      <td>To country</td>\n",
       "      <td>Jury A</td>\n",
       "      <td>Jury B</td>\n",
       "      <td>Jury C</td>\n",
       "      <td>Jury D</td>\n",
       "      <td>Jury E</td>\n",
       "      <td>Jury Rank</td>\n",
       "      <td>Televote Rank</td>\n",
       "      <td>Jury Points</td>\n",
       "      <td>Televote Points</td>\n",
       "    </tr>\n",
       "    <tr>\n",
       "      <th>Albania</th>\n",
       "      <td>Belgium</td>\n",
       "      <td>20</td>\n",
       "      <td>16</td>\n",
       "      <td>24</td>\n",
       "      <td>22</td>\n",
       "      <td>24</td>\n",
       "      <td>25</td>\n",
       "      <td>14</td>\n",
       "      <td>\\n</td>\n",
       "      <td>\\n</td>\n",
       "    </tr>\n",
       "    <tr>\n",
       "      <th>Albania</th>\n",
       "      <td>Czech Republic</td>\n",
       "      <td>21</td>\n",
       "      <td>15</td>\n",
       "      <td>25</td>\n",
       "      <td>23</td>\n",
       "      <td>16</td>\n",
       "      <td>22</td>\n",
       "      <td>22</td>\n",
       "      <td>\\n</td>\n",
       "      <td>\\n</td>\n",
       "    </tr>\n",
       "    <tr>\n",
       "      <th>Albania</th>\n",
       "      <td>The Netherlands</td>\n",
       "      <td>22</td>\n",
       "      <td>14</td>\n",
       "      <td>23</td>\n",
       "      <td>24</td>\n",
       "      <td>21</td>\n",
       "      <td>24</td>\n",
       "      <td>24</td>\n",
       "      <td>\\n</td>\n",
       "      <td>\\n</td>\n",
       "    </tr>\n",
       "    <tr>\n",
       "      <th>Albania</th>\n",
       "      <td>Azerbaijan</td>\n",
       "      <td>19</td>\n",
       "      <td>12</td>\n",
       "      <td>11</td>\n",
       "      <td>21</td>\n",
       "      <td>11</td>\n",
       "      <td>13</td>\n",
       "      <td>19</td>\n",
       "      <td>\\n</td>\n",
       "      <td>\\n</td>\n",
       "    </tr>\n",
       "  </tbody>\n",
       "</table>\n",
       "</div>"
      ],
      "text/plain": [
       "                                               Unnamed: 1 Unnamed: 2  \\\n",
       "Eurovision Song Contest 2016 Grand Final                               \n",
       "From country                                   To country     Jury A   \n",
       "Albania                                           Belgium         20   \n",
       "Albania                                    Czech Republic         21   \n",
       "Albania                                   The Netherlands         22   \n",
       "Albania                                        Azerbaijan         19   \n",
       "\n",
       "                                         Unnamed: 3 Unnamed: 4 Unnamed: 5  \\\n",
       "Eurovision Song Contest 2016 Grand Final                                    \n",
       "From country                                 Jury B     Jury C     Jury D   \n",
       "Albania                                          16         24         22   \n",
       "Albania                                          15         25         23   \n",
       "Albania                                          14         23         24   \n",
       "Albania                                          12         11         21   \n",
       "\n",
       "                                         Unnamed: 6 Unnamed: 7     Unnamed: 8  \\\n",
       "Eurovision Song Contest 2016 Grand Final                                        \n",
       "From country                                 Jury E  Jury Rank  Televote Rank   \n",
       "Albania                                          24         25             14   \n",
       "Albania                                          16         22             22   \n",
       "Albania                                          21         24             24   \n",
       "Albania                                          11         13             19   \n",
       "\n",
       "                                           Unnamed: 9      Unnamed: 10  \n",
       "Eurovision Song Contest 2016 Grand Final                                \n",
       "From country                              Jury Points  Televote Points  \n",
       "Albania                                            \\n               \\n  \n",
       "Albania                                            \\n               \\n  \n",
       "Albania                                            \\n               \\n  \n",
       "Albania                                            \\n               \\n  "
      ]
     },
     "execution_count": 23,
     "metadata": {},
     "output_type": "execute_result"
    }
   ],
   "source": [
    "# library to import for sklearn - supervised learning\n",
    "\n",
    "import pandas as pd\n",
    "import numpy as np\n",
    "import matplotlib.pyplot as plt\n",
    "\n",
    "# set the plotting to ggplot (topics to discuss at later point)\n",
    "plt.style.use('ggplot')\n",
    "\n",
    "# load the dataset\n",
    "# iris = datasets.load_iris()\n",
    "import os\n",
    "# samples = pd.read_excel('‎⁨MAC HD ⁩ ▸ ⁨Users⁩ ▸ ⁨vivekreddyvari⁩ ▸ ⁨Desktop⁩ ▸ ⁨book⁩ ▸ ⁨00 Python Learning Progress⁩ ▸ ⁨Dataset Folder⁩ ▸ ⁨eurovision-a1da4b⁩')\n",
    "from pathlib import Path\n",
    "data_folder = Path(\"Users/vivekreddyvari/Desktop/book/\")\n",
    "file_to_open = (\"ESC-2016-grand_final-full_results.xls\")\n",
    "\n",
    "eurovision = pd.read_excel('/Users/vivekreddyvari/Desktop/book/ESC-2016-grand_final-full_results.xls', index_col=0)\n",
    "eurovision.info()\n",
    "eurovision.head()\n"
   ]
  },
  {
   "cell_type": "code",
   "execution_count": null,
   "metadata": {},
   "outputs": [],
   "source": [
    "# Functions from SciPy is used to perform hierarchical clustering\n",
    "\n",
    "import matplotlib.pyplot as plt\n",
    "from scipy.cluster.hierarchy import linkage, dendrogram\n",
    "mergings = linkage(eurovision, method='complete')\n",
    "dendrogram(mergings, labels=country_names, leaf_rotation=90, leaf_font_size=6)\n",
    "plt.show()"
   ]
  },
  {
   "cell_type": "code",
   "execution_count": 25,
   "metadata": {},
   "outputs": [
    {
     "name": "stdout",
     "output_type": "stream",
     "text": [
      "['c', 'a', 't', 'd', 'o', 'g', 'r', 'a', 'b', 'b', 'i', 't']\n"
     ]
    }
   ],
   "source": [
    "word_list = ['cat','dog','rabbit']\n",
    "letter_list = [ ]\n",
    "for a_word in word_list:\n",
    "   for a_letter in a_word:\n",
    "      letter_list.append(a_letter)\n",
    "print(letter_list)"
   ]
  },
  {
   "cell_type": "code",
   "execution_count": 33,
   "metadata": {},
   "outputs": [
    {
     "name": "stdout",
     "output_type": "stream",
     "text": [
      "Sorry, value is negative\n",
      "33.51119216023208\n"
     ]
    }
   ],
   "source": [
    "import math\n",
    "n=-1123\n",
    "if n < 0:\n",
    "  print(\"Sorry, value is negative\")\n",
    "else:\n",
    "  print(math.sqrt(n))\n",
    "\n",
    "if n < 0:\n",
    "  n = abs(n)\n",
    "print(math.sqrt(n))"
   ]
  },
  {
   "cell_type": "code",
   "execution_count": 32,
   "metadata": {},
   "outputs": [
    {
     "name": "stdout",
     "output_type": "stream",
     "text": [
      "C\n"
     ]
    }
   ],
   "source": [
    "score = 70\n",
    "if score >= 90:\n",
    "  print('A')\n",
    "else:\n",
    "  if score >= 80:\n",
    "    print('B')\n",
    "  else:\n",
    "    if score >= 70:\n",
    "       print('C')\n",
    "    else:\n",
    "       if score >= 60:\n",
    "         print('D')\n",
    "       else:\n",
    "        print('F')\n"
   ]
  },
  {
   "cell_type": "code",
   "execution_count": 53,
   "metadata": {},
   "outputs": [
    {
     "data": {
      "text/plain": [
       "[1, 4, 9, 16, 25, 36, 49, 64, 81]"
      ]
     },
     "metadata": {},
     "output_type": "display_data"
    }
   ],
   "source": [
    "sq_list1 = []\n",
    "for x in range(1, 10):\n",
    "       sq_list1.append(x * x)\n",
    "square_1_100 = list(sq_list1)\n",
    "display(square_1_100)"
   ]
  },
  {
   "cell_type": "code",
   "execution_count": 54,
   "metadata": {},
   "outputs": [],
   "source": [
    "sq_list_ = [x * x for x in range(1, 10)]"
   ]
  },
  {
   "cell_type": "code",
   "execution_count": 55,
   "metadata": {},
   "outputs": [
    {
     "data": {
      "text/plain": [
       "[1, 4, 9, 16, 25, 36, 49, 64, 81]"
      ]
     },
     "execution_count": 55,
     "metadata": {},
     "output_type": "execute_result"
    }
   ],
   "source": [
    "sq_list_"
   ]
  },
  {
   "cell_type": "code",
   "execution_count": 56,
   "metadata": {},
   "outputs": [
    {
     "data": {
      "text/plain": [
       "['C', 'M', 'P', 'R', 'H', 'N', 'S', 'N']"
      ]
     },
     "execution_count": 56,
     "metadata": {},
     "output_type": "execute_result"
    }
   ],
   "source": [
    "[ch.upper() for ch in 'comprehension' if ch not in 'aeiou']"
   ]
  },
  {
   "cell_type": "code",
   "execution_count": 59,
   "metadata": {},
   "outputs": [
    {
     "name": "stdout",
     "output_type": "stream",
     "text": [
      "Please enter an integer 90\n",
      "9.486832980505138\n",
      "9.486832980505138\n"
     ]
    }
   ],
   "source": [
    "a_number = int(input(\"Please enter an integer \"))\n",
    "print(math.sqrt(a_number))\n",
    "try:\n",
    "    print(math.sqrt(a_number))\n",
    "except:\n",
    "        print(\"Bad Value for square root\")\n",
    "        print(\"Using absolute value instead\")\n",
    "        print(math.sqrt(abs(a_number)))"
   ]
  },
  {
   "cell_type": "markdown",
   "metadata": {},
   "source": [
    "Hierarchical clustering of the grain data\n",
    "\n",
    "In the video, you learned that the SciPy linkage() function performs hierarchical clustering on an array of samples. Use the linkage() function to obtain a hierarchical clustering of the grain samples, and use dendrogram() to visualize the result. A sample of the grain measurements is provided in the array samples, while the variety of each grain sample is given by the list varieties."
   ]
  },
  {
   "cell_type": "code",
   "execution_count": null,
   "metadata": {},
   "outputs": [],
   "source": [
    "# Perform the necessary imports\n",
    "from scipy.cluster.hierarchy import linkage, dendrogram\n",
    "import matplotlib.pyplot as plt\n",
    "\n",
    "# Calculate the linkage: mergings\n",
    "mergings = linkage(samples,method='complete')\n",
    "\n",
    "# Plot the dendrogram, using varieties as labels\n",
    "dendrogram(mergings,\n",
    "           labels=varieties,\n",
    "           leaf_rotation=90,\n",
    "           leaf_font_size=6,\n",
    ")\n",
    "plt.show()\n"
   ]
  },
  {
   "cell_type": "markdown",
   "metadata": {},
   "source": [
    "Hierarchies of stocks\n",
    "\n",
    "In chapter 1, you used k-means clustering to cluster companies according to their stock price movements. Now, you'll perform hierarchical clustering of the companies. You are given a NumPy array of price movements movements, where the rows correspond to companies, and a list of the company names companies. SciPy hierarchical clustering doesn't fit into a sklearn pipeline, so you'll need to use the normalize() function from sklearn.preprocessing instead of Normalizer.\n",
    "\n",
    "linkage and dendrogram have already been imported from scipy.cluster.hierarchy, and PyPlot has been imported as plt."
   ]
  },
  {
   "cell_type": "code",
   "execution_count": null,
   "metadata": {},
   "outputs": [],
   "source": [
    "# Import normalize\n",
    "from sklearn.preprocessing import normalize\n",
    "\n",
    "# Normalize the movements: normalized_movements\n",
    "normalized_movements = normalize(movements)\n",
    "\n",
    "# Calculate the linkage: mergings\n",
    "mergings = linkage(normalized_movements, method='complete')\n",
    "\n",
    "# Plot the dendrogram\n",
    "dendrogram(mergings, labels=companies, leaf_rotation=90, leaf_font_size=6)\n",
    "plt.show()\n"
   ]
  },
  {
   "cell_type": "markdown",
   "metadata": {},
   "source": [
    "#### Cluster labels in hierarichical clustering\n",
    "    - They can be used cross-tabultions\n",
    "#### Intermediate Clusterings and height on dendrogram\n",
    "    - Height on the dendrogram = distance between merging clusters\n",
    "    - Height on the dendrogram specifies max. distance between merging clusters\n",
    "    - Don't merge cluster further apart than this (eg.15)\n",
    "    - Distance between two cluster is measured using 'linkage method'\n",
    "    - specified via method parameter e.g. linkage(samples, method='complete')\n",
    "#### Extracting cluster labels\n",
    "    - Use the fcluster method \n",
    "    - Returns a numpy array of cluster labels\n"
   ]
  },
  {
   "cell_type": "code",
   "execution_count": null,
   "metadata": {},
   "outputs": [],
   "source": [
    "from scipy.cluster.hierarchy import linkage\n",
    "mergings = linkage(samples, method='complete')\n",
    "\n",
    "from scipy.cluster.hierarchy import fcluster\n",
    "labels = fcluster(mergings, 15, criterion='distance')\n",
    "\n",
    "print(labels)\n",
    "\n",
    "# Aligning cluster labels with country names\n",
    "# Given a list of strings country_names\n",
    "\n",
    "import pandas as pd\n",
    "pairs = pd.DataFrame({'labels':labels,\n",
    "                     'countries': country_names})\n",
    "print(pairs.sort_values('labels'))\n"
   ]
  },
  {
   "cell_type": "markdown",
   "metadata": {},
   "source": [
    "Different linkage, different hierarchical clustering!\n",
    "\n",
    "In the video, you saw a hierarchical clustering of the voting countries at the Eurovision song contest using 'complete' linkage. Now, perform a hierarchical clustering of the voting countries with 'single' linkage, and compare the resulting dendrogram with the one in the video. Different linkage, different hierarchical clustering!\n",
    "\n",
    "You are given an array samples. Each row corresponds to a voting country, and each column corresponds to a performance that was voted for. The list country_names gives the name of each voting country. This dataset was obtained from Eurovision."
   ]
  },
  {
   "cell_type": "code",
   "execution_count": null,
   "metadata": {},
   "outputs": [],
   "source": [
    "# Perform the necessary imports\n",
    "import matplotlib.pyplot as plt\n",
    "from scipy.cluster.hierarchy import linkage, dendrogram\n",
    "\n",
    "# Calculate the linkage: mergings\n",
    "mergings = linkage(samples, method='single')\n",
    "\n",
    "# Plot the dendrogram\n",
    "dendrogram(mergings, labels=country_names, leaf_rotation=90, leaf_font_size=6)\n",
    "plt.show()"
   ]
  },
  {
   "cell_type": "markdown",
   "metadata": {},
   "source": [
    "Extracting the cluster labels\n",
    "\n",
    "In the previous exercise, you saw that the intermediate clustering of the grain samples at height 6 has 3 clusters. Now, use the fcluster() function to extract the cluster labels for this intermediate clustering, and compare the labels with the grain varieties using a cross-tabulation.\n",
    "\n",
    "The hierarchical clustering has already been performed and mergings is the result of the linkage() function. The list varieties gives the variety of each grain sample."
   ]
  },
  {
   "cell_type": "code",
   "execution_count": null,
   "metadata": {},
   "outputs": [],
   "source": [
    "# Perform the necessary imports\n",
    "import pandas as pd\n",
    "from scipy.cluster.hierarchy import fcluster\n",
    "\n",
    "# Use fcluster to extract labels: labels\n",
    "labels = fcluster(mergings, 6, criterion='distance')\n",
    "\n",
    "# Create a DataFrame with labels and varieties as columns: df\n",
    "df = pd.DataFrame({'labels': labels, 'varieties': varieties})\n",
    "\n",
    "# Create crosstab: ct\n",
    "ct = pd.crosstab(df['labels'], df['varieties'])\n",
    "\n",
    "# Display ct\n",
    "print(ct)\n"
   ]
  },
  {
   "cell_type": "markdown",
   "metadata": {},
   "source": [
    "#### t-SNE"
   ]
  },
  {
   "cell_type": "markdown",
   "metadata": {},
   "source": [
    "    - t-SNE = \"t-distributed stochastic neighbor embedding\"\n",
    "    - MAPS samples to 2D space (or 3D)\n",
    "    - Map approximately preserves nearness of samples\n",
    "    - Great of inspecting datasets\n",
    "#### t-SNE on IRIS dataset\n",
    "    - t-SNE maps samples to 2D space\n",
    "    - t-SNE didn't know that there were different species\n",
    "    - yet kept the most of them separately\n",
    "#### Interpreting t-SNE with scatter plot\n",
    "    - Consistent with k-means inertia plot: but the difficulty was to argue with cluster it's 2 or 3"
   ]
  },
  {
   "cell_type": "code",
   "execution_count": 112,
   "metadata": {},
   "outputs": [
    {
     "name": "stdout",
     "output_type": "stream",
     "text": [
      "dict_keys(['data', 'target', 'target_names', 'DESCR', 'feature_names', 'filename'])\n"
     ]
    },
    {
     "data": {
      "text/plain": [
       "numpy.ndarray"
      ]
     },
     "metadata": {},
     "output_type": "display_data"
    },
    {
     "data": {
      "text/plain": [
       "numpy.ndarray"
      ]
     },
     "metadata": {},
     "output_type": "display_data"
    },
    {
     "data": {
      "text/plain": [
       "str"
      ]
     },
     "metadata": {},
     "output_type": "display_data"
    },
    {
     "name": "stdout",
     "output_type": "stream",
     "text": [
      "(150, 4)\n",
      "['sepal length (cm)', 'sepal width (cm)', 'petal length (cm)', 'petal width (cm)']\n"
     ]
    },
    {
     "data": {
      "text/plain": [
       "array(['setosa', 'versicolor', 'virginica'], dtype='<U10')"
      ]
     },
     "metadata": {},
     "output_type": "display_data"
    },
    {
     "data": {
      "text/html": [
       "<div>\n",
       "<style scoped>\n",
       "    .dataframe tbody tr th:only-of-type {\n",
       "        vertical-align: middle;\n",
       "    }\n",
       "\n",
       "    .dataframe tbody tr th {\n",
       "        vertical-align: top;\n",
       "    }\n",
       "\n",
       "    .dataframe thead th {\n",
       "        text-align: right;\n",
       "    }\n",
       "</style>\n",
       "<table border=\"1\" class=\"dataframe\">\n",
       "  <thead>\n",
       "    <tr style=\"text-align: right;\">\n",
       "      <th></th>\n",
       "      <th>sepal length (cm)</th>\n",
       "      <th>sepal width (cm)</th>\n",
       "      <th>petal length (cm)</th>\n",
       "      <th>petal width (cm)</th>\n",
       "    </tr>\n",
       "  </thead>\n",
       "  <tbody>\n",
       "    <tr>\n",
       "      <th>0</th>\n",
       "      <td>5.1</td>\n",
       "      <td>3.5</td>\n",
       "      <td>1.4</td>\n",
       "      <td>0.2</td>\n",
       "    </tr>\n",
       "    <tr>\n",
       "      <th>1</th>\n",
       "      <td>4.9</td>\n",
       "      <td>3.0</td>\n",
       "      <td>1.4</td>\n",
       "      <td>0.2</td>\n",
       "    </tr>\n",
       "    <tr>\n",
       "      <th>2</th>\n",
       "      <td>4.7</td>\n",
       "      <td>3.2</td>\n",
       "      <td>1.3</td>\n",
       "      <td>0.2</td>\n",
       "    </tr>\n",
       "    <tr>\n",
       "      <th>3</th>\n",
       "      <td>4.6</td>\n",
       "      <td>3.1</td>\n",
       "      <td>1.5</td>\n",
       "      <td>0.2</td>\n",
       "    </tr>\n",
       "    <tr>\n",
       "      <th>4</th>\n",
       "      <td>5.0</td>\n",
       "      <td>3.6</td>\n",
       "      <td>1.4</td>\n",
       "      <td>0.2</td>\n",
       "    </tr>\n",
       "  </tbody>\n",
       "</table>\n",
       "</div>"
      ],
      "text/plain": [
       "   sepal length (cm)  sepal width (cm)  petal length (cm)  petal width (cm)\n",
       "0                5.1               3.5                1.4               0.2\n",
       "1                4.9               3.0                1.4               0.2\n",
       "2                4.7               3.2                1.3               0.2\n",
       "3                4.6               3.1                1.5               0.2\n",
       "4                5.0               3.6                1.4               0.2"
      ]
     },
     "metadata": {},
     "output_type": "display_data"
    },
    {
     "data": {
      "text/plain": [
       "0    150\n",
       "dtype: int64"
      ]
     },
     "metadata": {},
     "output_type": "display_data"
    },
    {
     "data": {
      "text/plain": [
       "RangeIndex(start=0, stop=1, step=1)"
      ]
     },
     "metadata": {},
     "output_type": "display_data"
    },
    {
     "data": {
      "text/html": [
       "<div>\n",
       "<style scoped>\n",
       "    .dataframe tbody tr th:only-of-type {\n",
       "        vertical-align: middle;\n",
       "    }\n",
       "\n",
       "    .dataframe tbody tr th {\n",
       "        vertical-align: top;\n",
       "    }\n",
       "\n",
       "    .dataframe thead th {\n",
       "        text-align: right;\n",
       "    }\n",
       "</style>\n",
       "<table border=\"1\" class=\"dataframe\">\n",
       "  <thead>\n",
       "    <tr style=\"text-align: right;\">\n",
       "      <th></th>\n",
       "      <th>0</th>\n",
       "    </tr>\n",
       "  </thead>\n",
       "  <tbody>\n",
       "    <tr>\n",
       "      <th>0</th>\n",
       "      <td>0</td>\n",
       "    </tr>\n",
       "    <tr>\n",
       "      <th>1</th>\n",
       "      <td>0</td>\n",
       "    </tr>\n",
       "    <tr>\n",
       "      <th>2</th>\n",
       "      <td>0</td>\n",
       "    </tr>\n",
       "    <tr>\n",
       "      <th>3</th>\n",
       "      <td>0</td>\n",
       "    </tr>\n",
       "    <tr>\n",
       "      <th>4</th>\n",
       "      <td>0</td>\n",
       "    </tr>\n",
       "  </tbody>\n",
       "</table>\n",
       "</div>"
      ],
      "text/plain": [
       "   0\n",
       "0  0\n",
       "1  0\n",
       "2  0\n",
       "3  0\n",
       "4  0"
      ]
     },
     "metadata": {},
     "output_type": "display_data"
    },
    {
     "data": {
      "text/plain": [
       "RangeIndex(start=0, stop=1, step=1)"
      ]
     },
     "metadata": {},
     "output_type": "display_data"
    },
    {
     "data": {
      "text/html": [
       "<div>\n",
       "<style scoped>\n",
       "    .dataframe tbody tr th:only-of-type {\n",
       "        vertical-align: middle;\n",
       "    }\n",
       "\n",
       "    .dataframe tbody tr th {\n",
       "        vertical-align: top;\n",
       "    }\n",
       "\n",
       "    .dataframe thead th {\n",
       "        text-align: right;\n",
       "    }\n",
       "</style>\n",
       "<table border=\"1\" class=\"dataframe\">\n",
       "  <thead>\n",
       "    <tr style=\"text-align: right;\">\n",
       "      <th></th>\n",
       "      <th>0</th>\n",
       "    </tr>\n",
       "  </thead>\n",
       "  <tbody>\n",
       "    <tr>\n",
       "      <th>0</th>\n",
       "      <td>0</td>\n",
       "    </tr>\n",
       "    <tr>\n",
       "      <th>1</th>\n",
       "      <td>0</td>\n",
       "    </tr>\n",
       "    <tr>\n",
       "      <th>2</th>\n",
       "      <td>0</td>\n",
       "    </tr>\n",
       "    <tr>\n",
       "      <th>3</th>\n",
       "      <td>0</td>\n",
       "    </tr>\n",
       "    <tr>\n",
       "      <th>4</th>\n",
       "      <td>0</td>\n",
       "    </tr>\n",
       "    <tr>\n",
       "      <th>5</th>\n",
       "      <td>0</td>\n",
       "    </tr>\n",
       "    <tr>\n",
       "      <th>6</th>\n",
       "      <td>0</td>\n",
       "    </tr>\n",
       "    <tr>\n",
       "      <th>7</th>\n",
       "      <td>0</td>\n",
       "    </tr>\n",
       "    <tr>\n",
       "      <th>8</th>\n",
       "      <td>0</td>\n",
       "    </tr>\n",
       "    <tr>\n",
       "      <th>9</th>\n",
       "      <td>0</td>\n",
       "    </tr>\n",
       "    <tr>\n",
       "      <th>10</th>\n",
       "      <td>0</td>\n",
       "    </tr>\n",
       "    <tr>\n",
       "      <th>11</th>\n",
       "      <td>0</td>\n",
       "    </tr>\n",
       "    <tr>\n",
       "      <th>12</th>\n",
       "      <td>0</td>\n",
       "    </tr>\n",
       "    <tr>\n",
       "      <th>13</th>\n",
       "      <td>0</td>\n",
       "    </tr>\n",
       "    <tr>\n",
       "      <th>14</th>\n",
       "      <td>0</td>\n",
       "    </tr>\n",
       "    <tr>\n",
       "      <th>15</th>\n",
       "      <td>0</td>\n",
       "    </tr>\n",
       "    <tr>\n",
       "      <th>16</th>\n",
       "      <td>0</td>\n",
       "    </tr>\n",
       "    <tr>\n",
       "      <th>17</th>\n",
       "      <td>0</td>\n",
       "    </tr>\n",
       "    <tr>\n",
       "      <th>18</th>\n",
       "      <td>0</td>\n",
       "    </tr>\n",
       "    <tr>\n",
       "      <th>19</th>\n",
       "      <td>0</td>\n",
       "    </tr>\n",
       "    <tr>\n",
       "      <th>20</th>\n",
       "      <td>0</td>\n",
       "    </tr>\n",
       "    <tr>\n",
       "      <th>21</th>\n",
       "      <td>0</td>\n",
       "    </tr>\n",
       "    <tr>\n",
       "      <th>22</th>\n",
       "      <td>0</td>\n",
       "    </tr>\n",
       "    <tr>\n",
       "      <th>23</th>\n",
       "      <td>0</td>\n",
       "    </tr>\n",
       "    <tr>\n",
       "      <th>24</th>\n",
       "      <td>0</td>\n",
       "    </tr>\n",
       "    <tr>\n",
       "      <th>25</th>\n",
       "      <td>0</td>\n",
       "    </tr>\n",
       "    <tr>\n",
       "      <th>26</th>\n",
       "      <td>0</td>\n",
       "    </tr>\n",
       "    <tr>\n",
       "      <th>27</th>\n",
       "      <td>0</td>\n",
       "    </tr>\n",
       "    <tr>\n",
       "      <th>28</th>\n",
       "      <td>0</td>\n",
       "    </tr>\n",
       "    <tr>\n",
       "      <th>29</th>\n",
       "      <td>0</td>\n",
       "    </tr>\n",
       "    <tr>\n",
       "      <th>...</th>\n",
       "      <td>...</td>\n",
       "    </tr>\n",
       "    <tr>\n",
       "      <th>120</th>\n",
       "      <td>2</td>\n",
       "    </tr>\n",
       "    <tr>\n",
       "      <th>121</th>\n",
       "      <td>2</td>\n",
       "    </tr>\n",
       "    <tr>\n",
       "      <th>122</th>\n",
       "      <td>2</td>\n",
       "    </tr>\n",
       "    <tr>\n",
       "      <th>123</th>\n",
       "      <td>2</td>\n",
       "    </tr>\n",
       "    <tr>\n",
       "      <th>124</th>\n",
       "      <td>2</td>\n",
       "    </tr>\n",
       "    <tr>\n",
       "      <th>125</th>\n",
       "      <td>2</td>\n",
       "    </tr>\n",
       "    <tr>\n",
       "      <th>126</th>\n",
       "      <td>2</td>\n",
       "    </tr>\n",
       "    <tr>\n",
       "      <th>127</th>\n",
       "      <td>2</td>\n",
       "    </tr>\n",
       "    <tr>\n",
       "      <th>128</th>\n",
       "      <td>2</td>\n",
       "    </tr>\n",
       "    <tr>\n",
       "      <th>129</th>\n",
       "      <td>2</td>\n",
       "    </tr>\n",
       "    <tr>\n",
       "      <th>130</th>\n",
       "      <td>2</td>\n",
       "    </tr>\n",
       "    <tr>\n",
       "      <th>131</th>\n",
       "      <td>2</td>\n",
       "    </tr>\n",
       "    <tr>\n",
       "      <th>132</th>\n",
       "      <td>2</td>\n",
       "    </tr>\n",
       "    <tr>\n",
       "      <th>133</th>\n",
       "      <td>2</td>\n",
       "    </tr>\n",
       "    <tr>\n",
       "      <th>134</th>\n",
       "      <td>2</td>\n",
       "    </tr>\n",
       "    <tr>\n",
       "      <th>135</th>\n",
       "      <td>2</td>\n",
       "    </tr>\n",
       "    <tr>\n",
       "      <th>136</th>\n",
       "      <td>2</td>\n",
       "    </tr>\n",
       "    <tr>\n",
       "      <th>137</th>\n",
       "      <td>2</td>\n",
       "    </tr>\n",
       "    <tr>\n",
       "      <th>138</th>\n",
       "      <td>2</td>\n",
       "    </tr>\n",
       "    <tr>\n",
       "      <th>139</th>\n",
       "      <td>2</td>\n",
       "    </tr>\n",
       "    <tr>\n",
       "      <th>140</th>\n",
       "      <td>2</td>\n",
       "    </tr>\n",
       "    <tr>\n",
       "      <th>141</th>\n",
       "      <td>2</td>\n",
       "    </tr>\n",
       "    <tr>\n",
       "      <th>142</th>\n",
       "      <td>2</td>\n",
       "    </tr>\n",
       "    <tr>\n",
       "      <th>143</th>\n",
       "      <td>2</td>\n",
       "    </tr>\n",
       "    <tr>\n",
       "      <th>144</th>\n",
       "      <td>2</td>\n",
       "    </tr>\n",
       "    <tr>\n",
       "      <th>145</th>\n",
       "      <td>2</td>\n",
       "    </tr>\n",
       "    <tr>\n",
       "      <th>146</th>\n",
       "      <td>2</td>\n",
       "    </tr>\n",
       "    <tr>\n",
       "      <th>147</th>\n",
       "      <td>2</td>\n",
       "    </tr>\n",
       "    <tr>\n",
       "      <th>148</th>\n",
       "      <td>2</td>\n",
       "    </tr>\n",
       "    <tr>\n",
       "      <th>149</th>\n",
       "      <td>2</td>\n",
       "    </tr>\n",
       "  </tbody>\n",
       "</table>\n",
       "<p>150 rows × 1 columns</p>\n",
       "</div>"
      ],
      "text/plain": [
       "     0\n",
       "0    0\n",
       "1    0\n",
       "2    0\n",
       "3    0\n",
       "4    0\n",
       "5    0\n",
       "6    0\n",
       "7    0\n",
       "8    0\n",
       "9    0\n",
       "10   0\n",
       "11   0\n",
       "12   0\n",
       "13   0\n",
       "14   0\n",
       "15   0\n",
       "16   0\n",
       "17   0\n",
       "18   0\n",
       "19   0\n",
       "20   0\n",
       "21   0\n",
       "22   0\n",
       "23   0\n",
       "24   0\n",
       "25   0\n",
       "26   0\n",
       "27   0\n",
       "28   0\n",
       "29   0\n",
       "..  ..\n",
       "120  2\n",
       "121  2\n",
       "122  2\n",
       "123  2\n",
       "124  2\n",
       "125  2\n",
       "126  2\n",
       "127  2\n",
       "128  2\n",
       "129  2\n",
       "130  2\n",
       "131  2\n",
       "132  2\n",
       "133  2\n",
       "134  2\n",
       "135  2\n",
       "136  2\n",
       "137  2\n",
       "138  2\n",
       "139  2\n",
       "140  2\n",
       "141  2\n",
       "142  2\n",
       "143  2\n",
       "144  2\n",
       "145  2\n",
       "146  2\n",
       "147  2\n",
       "148  2\n",
       "149  2\n",
       "\n",
       "[150 rows x 1 columns]"
      ]
     },
     "execution_count": 112,
     "metadata": {},
     "output_type": "execute_result"
    }
   ],
   "source": [
    "# library to import for sklearn - supervised learning\n",
    "from sklearn import datasets\n",
    "import pandas as pd\n",
    "import numpy as np\n",
    "import matplotlib.pyplot as plt\n",
    "\n",
    "# set the plotting to ggplot (topics to discuss at later point)\n",
    "plt.style.use('ggplot')\n",
    "\n",
    "# load the dataset\n",
    "iris = datasets.load_iris()\n",
    "\n",
    "# Check the type of iris, it's a bunch which is equal to dictionary\n",
    "type(iris)\n",
    "\n",
    "# print keys of iris\n",
    "print(iris.keys())\n",
    "\n",
    "# check the types\n",
    "display(type(iris.data), type(iris.target))\n",
    "display(type(iris.DESCR))\n",
    "\n",
    "# check the shape.\n",
    "print(iris.data.shape)\n",
    "# display(iris)\n",
    "print(iris.feature_names)\n",
    "\n",
    "#\n",
    "display(iris.target_names)\n",
    "\n",
    "# create iris_samples\n",
    "X_data = iris.data\n",
    "Y_data = iris.target\n",
    "\n",
    "iris_samples = pd.DataFrame(X_data, columns=iris.feature_names)\n",
    "display(iris_samples.head())\n",
    "iris_target = pd.DataFrame(Y_data, columns=None)\n",
    "display(iris_target.count())\n",
    "display(iris_target.columns)\n",
    "# display(iris_target)\n",
    "display(iris_target.head())\n",
    "display(iris_target.columns)\n",
    "labels = iris_target\n",
    "labels"
   ]
  },
  {
   "cell_type": "markdown",
   "metadata": {},
   "source": [
    "    - t-SNE in sklearn\n",
    "    - 2D numpy array samples\n",
    "    - t-SNE is fit_transform()\n",
    "#### t-SNE learning rate\n",
    "    -  choosing learning_rate, try 50 to 200\n",
    "    -  wrong choice: points buch together\n",
    "    "
   ]
  },
  {
   "cell_type": "code",
   "execution_count": 114,
   "metadata": {},
   "outputs": [
    {
     "data": {
      "text/plain": [
       "array([ 11.462289 ,  10.118625 ,  10.991864 ,  10.700181 ,  11.133019 ,\n",
       "        11.884558 ,  11.630091 ,  11.429826 ,  10.251617 ,  10.532203 ,\n",
       "        12.304321 ,  11.614897 ,  10.17162  ,  10.631953 ,  12.742332 ,\n",
       "        12.292458 ,  12.251178 ,  11.627363 ,  12.796802 ,  11.427604 ,\n",
       "        12.799775 ,  11.550831 ,  12.218956 ,  12.591548 ,  12.214223 ,\n",
       "        10.096413 ,  12.097617 ,  11.963751 ,  11.8731365,  11.213058 ,\n",
       "        10.836891 ,  12.704154 ,  11.514252 ,  12.120468 ,  10.6429615,\n",
       "        10.402843 ,  12.839776 ,  10.798696 ,  10.5409565,  11.635957 ,\n",
       "        11.112558 ,   9.497296 ,  11.08554  ,  12.642087 ,  10.955453 ,\n",
       "        10.208692 ,  11.351212 ,  11.052873 ,  12.0379305,  11.067827 ,\n",
       "        -4.710024 ,  -6.3275647,  -4.8206725,  -8.438283 ,  -5.9228706,\n",
       "        -8.16209  ,  -6.928584 ,  -8.407292 ,  -5.572196 ,  -8.881973 ,\n",
       "        -8.604043 ,  -7.5265126,  -6.736051 ,  -7.097427 ,  -7.480128 ,\n",
       "        -5.33344  ,  -8.432436 ,  -7.407178 ,  -5.3851275,  -7.910246 ,\n",
       "        -7.552491 ,  -6.909964 ,  -6.183645 ,  -7.013022 ,  -6.1124973,\n",
       "        -5.6283245,  -5.1349277,  -7.9800477,  -7.39467  ,  -7.5603485,\n",
       "        -8.127484 ,  -8.02251  ,  -7.511516 ,  -6.439335 ,  -8.822383 ,\n",
       "        -7.796096 ,  -5.3442893,  -5.523939 ,  -8.119617 ,  -8.348138 ,\n",
       "        -8.688746 ,  -7.130986 ,  -7.538524 ,  -8.386666 ,  -8.275277 ,\n",
       "        -7.878552 ,  -7.932074 ,  -6.70719  ,  -8.256916 ,  -7.855005 ,\n",
       "        -7.200227 ,  -5.90671  ,  -9.131551 ,  -7.254522 ,  -7.7936654,\n",
       "        -9.740881 ,  -9.723478 ,  -9.8321705,  -9.535308 ,  -8.515125 ,\n",
       "        -8.219566 ,  -7.409405 ,  -8.487322 ,  -5.4988713,  -5.4389405,\n",
       "        -7.278378 ,  -7.6682744,  -9.114407 , -10.076676 ,  -5.587242 ,\n",
       "        -8.463552 ,  -5.469081 ,  -9.950849 ,  -6.9455695,  -8.194019 ,\n",
       "        -9.480868 ,  -6.9094334,  -7.1511536,  -7.630538 ,  -9.76063  ,\n",
       "        -9.802371 ,  -9.113829 ,  -7.64412  ,  -7.070281 ,  -6.655066 ,\n",
       "        -9.479612 ,  -7.0412197,  -7.5083466,  -7.2142706,  -8.664986 ,\n",
       "        -8.037656 ,  -8.809583 ,  -5.9071403,  -8.296921 ,  -7.7899537,\n",
       "        -8.48055  ,  -6.9545584,  -8.008458 ,  -6.7983837,  -6.457739 ],\n",
       "      dtype=float32)"
      ]
     },
     "metadata": {},
     "output_type": "display_data"
    },
    {
     "data": {
      "text/plain": [
       "array([ 14.230335 ,  16.337633 ,  16.913893 ,  17.097055 ,  14.073592 ,\n",
       "        12.294643 ,  16.924007 ,  14.990015 ,  17.721575 ,  16.089334 ,\n",
       "        12.914482 ,  15.822122 ,  16.70767  ,  18.148268 ,  11.687832 ,\n",
       "        11.377292 ,  12.273241 ,  14.241305 ,  12.251898 ,  13.095074 ,\n",
       "        13.735968 ,  13.423586 ,  17.441195 ,  15.030263 ,  15.992506 ,\n",
       "        15.960484 ,  15.049489 ,  13.952425 ,  14.280649 ,  16.489096 ,\n",
       "        16.342705 ,  13.775937 ,  12.023056 ,  11.649234 ,  16.073109 ,\n",
       "        15.394843 ,  13.182207 ,  14.317704 ,  17.784798 ,  14.6781025,\n",
       "        14.498408 ,  17.80398  ,  17.728336 ,  14.80789  ,  12.623822 ,\n",
       "        16.705915 ,  13.007327 ,  17.12211  ,  13.097524 ,  15.233995 ,\n",
       "       -10.8772745, -10.511369 , -11.238191 ,  -6.1481123, -10.68657  ,\n",
       "        -8.370727 , -11.069915 ,  -4.640799 , -10.444333 ,  -6.2648244,\n",
       "        -4.822685 ,  -8.445369 ,  -6.306531 , -10.311544 ,  -5.91041  ,\n",
       "       -10.294385 ,  -8.658207 ,  -6.926473 ,  -8.570204 ,  -6.179588 ,\n",
       "       -11.801458 ,  -7.677713 , -12.280712 ,  -9.87685  ,  -9.575009 ,\n",
       "       -10.176066 , -11.06978  , -14.045155 ,  -9.61405  ,  -5.474848 ,\n",
       "        -5.7858033,  -5.5385866,  -6.666811 , -13.155424 ,  -8.340794 ,\n",
       "       -10.662438 , -10.9219885,  -8.513093 ,  -7.5228677,  -6.430372 ,\n",
       "        -7.3135314, -10.0862255,  -6.728316 ,  -4.6917963,  -7.1956167,\n",
       "        -7.7646894,  -7.724714 ,  -9.119193 ,  -4.5071783,  -7.261684 ,\n",
       "       -18.1326   , -13.683829 , -18.321175 , -15.812442 , -17.3284   ,\n",
       "       -19.621435 ,  -7.3615284, -18.954388 , -16.969599 , -19.187284 ,\n",
       "       -15.438202 , -15.063427 , -17.039122 , -13.714417 , -14.40291  ,\n",
       "       -16.86436  , -15.944032 , -20.017723 , -19.814543 , -12.651587 ,\n",
       "       -17.936682 , -13.676037 , -19.669662 , -12.938957 , -17.672642 ,\n",
       "       -18.56473  , -12.5015   , -12.46965  , -16.451225 , -18.234945 ,\n",
       "       -18.85877  , -20.001799 , -16.63565  , -13.098116 , -14.740228 ,\n",
       "       -19.370733 , -17.589655 , -15.924149 , -12.127895 , -17.03567  ,\n",
       "       -17.518726 , -16.400352 , -13.684442 , -18.200588 , -18.051285 ,\n",
       "       -16.416595 , -13.550854 , -15.566792 , -17.194828 , -13.407295 ],\n",
       "      dtype=float32)"
      ]
     },
     "metadata": {},
     "output_type": "display_data"
    }
   ],
   "source": [
    "# import matplot lib\n",
    "import matplotlib.pyplot as plt\n",
    "\n",
    "# import TSNE method from sklearn.manifold\n",
    "from sklearn.manifold import TSNE\n",
    "\n",
    "# create model object, learning_rate = 100\n",
    "model = TSNE(learning_rate=100)\n",
    "\n",
    "# apply fit transform method to the iris_samples\n",
    "transformed = model.fit_transform(iris_samples)\n",
    "\n",
    "xs = transformed[:,0]\n",
    "ys = transformed[:,1]\n",
    "\n",
    "display(xs)\n",
    "display(ys)\n",
    "\n",
    "\n",
    "# plot the with scatter method\n",
    "# plt.scatter(xs, ys, c=labels)\n",
    "\n",
    "# plt.show()"
   ]
  },
  {
   "cell_type": "markdown",
   "metadata": {},
   "source": [
    "t-SNE visualization of grain dataset\n",
    "\n",
    "In the video, you saw t-SNE applied to the iris dataset. In this exercise, you'll apply t-SNE to the grain samples data and inspect the resulting t-SNE features using a scatter plot. You are given an array samples of grain samples and a list variety_numbers giving the variety number of each grain sample."
   ]
  },
  {
   "cell_type": "code",
   "execution_count": null,
   "metadata": {},
   "outputs": [],
   "source": [
    "# Import TSNE\n",
    "from sklearn.manifold import TSNE\n",
    "\n",
    "# Create a TSNE instance: model\n",
    "model = TSNE(learning_rate=200)\n",
    "\n",
    "# Apply fit_transform to samples: tsne_features\n",
    "tsne_features = model.fit_transform(samples)\n",
    "\n",
    "# Select the 0th feature: xs\n",
    "xs = tsne_features[:,0]\n",
    "\n",
    "# Select the 1st feature: ys\n",
    "ys = tsne_features[:,1]\n",
    "\n",
    "# Scatter plot, coloring by variety_numbers\n",
    "plt.scatter(xs, ys, c=variety_numbers)\n",
    "plt.show()"
   ]
  },
  {
   "cell_type": "markdown",
   "metadata": {},
   "source": [
    "A t-SNE map of the stock market\n",
    "\n",
    "t-SNE provides great visualizations when the individual samples can be labeled. In this exercise, you'll apply t-SNE to the company stock price data. A scatter plot of the resulting t-SNE features, labeled by the company names, gives you a map of the stock market! The stock price movements for each company are available as the array normalized_movements (these have already been normalized for you). The list companies gives the name of each company. PyPlot (plt) has been imported for you."
   ]
  },
  {
   "cell_type": "code",
   "execution_count": null,
   "metadata": {},
   "outputs": [],
   "source": [
    "# Import TSNE\n",
    "from sklearn.manifold import TSNE\n",
    "\n",
    "# Create a TSNE instance: model\n",
    "model = TSNE(learning_rate=50)\n",
    "\n",
    "# Apply fit_transform to normalized_movements: tsne_features\n",
    "tsne_features = model.fit_transform(normalized_movements)\n",
    "\n",
    "# Select the 0th feature: xs\n",
    "xs = tsne_features[:,0]\n",
    "\n",
    "# Select the 1th feature: ys\n",
    "ys = tsne_features[:,1]\n",
    "\n",
    "# Scatter plot\n",
    "plt.scatter(xs, ys, alpha=0.5)\n",
    "\n",
    "# Annotate the points\n",
    "for x, y, company in zip(xs, ys, companies):\n",
    "    plt.annotate(company, (x, y), fontsize=5, alpha=0.75)\n",
    "plt.show()\n"
   ]
  },
  {
   "attachments": {
    "supervisied%20learning.jpg": {
     "image/jpeg": "[encoded data removed]"
    }
   },
   "cell_type": "markdown",
   "metadata": {},
   "source": [
    "![supervisied%20learning.jpg](attachment:supervisied%20learning.jpg)"
   ]
  },
  {
   "cell_type": "code",
   "execution_count": null,
   "metadata": {},
   "outputs": [],
   "source": []
  }
 ],
 "metadata": {
  "kernelspec": {
   "display_name": "Python 3",
   "language": "python",
   "name": "python3"
  },
  "language_info": {
   "codemirror_mode": {
    "name": "ipython",
    "version": 3
   },
   "file_extension": ".py",
   "mimetype": "text/x-python",
   "name": "python",
   "nbconvert_exporter": "python",
   "pygments_lexer": "ipython3",
   "version": "3.7.1"
  }
 },
 "nbformat": 4,
 "nbformat_minor": 2
}
